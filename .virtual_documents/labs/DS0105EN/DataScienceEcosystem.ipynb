(3*4)+5.


minutes = 200
hours = minutes / 60
print(hours)



